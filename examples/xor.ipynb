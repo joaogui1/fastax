{
 "cells": [
  {
   "cell_type": "code",
   "execution_count": 1,
   "metadata": {},
   "outputs": [],
   "source": [
    "from __future__ import print_function\n",
    "\n",
    "import itertools\n",
    "\n",
    "import jax\n",
    "from jax import jit, grad, vmap\n",
    "import jax.numpy as np\n",
    "\n",
    "import numpy as onp\n",
    "\n",
    "import sys\n",
    "import os\n",
    "sys.path.insert(0, os.path.abspath('..'))\n",
    "from fastax import optimizers\n",
    "from fastax.layers import Dense, elementwise, serial\n",
    "from fastax.activations import sigmoid\n",
    "from fastax.losses import batch_loss, crossentropy as cse"
   ]
  },
  {
   "cell_type": "code",
   "execution_count": 2,
   "metadata": {},
   "outputs": [
    {
     "name": "stderr",
     "output_type": "stream",
     "text": [
      "/home/john/anaconda3/envs/jax/lib/python3.7/site-packages/jax/lib/xla_bridge.py:114: UserWarning: No GPU/TPU found, falling back to CPU.\n",
      "  warnings.warn('No GPU/TPU found, falling back to CPU.')\n"
     ]
    }
   ],
   "source": [
    "Tanh = elementwise(np.tanh)\n",
    "Sigmoid = elementwise(sigmoid)\n",
    "\n",
    "init_random_params, net = serial(\n",
    "    Dense(3), Tanh,\n",
    "    Dense(1), Sigmoid)\n",
    "\n",
    "loss = batch_loss(net)(cse)"
   ]
  },
  {
   "cell_type": "code",
   "execution_count": 3,
   "metadata": {},
   "outputs": [],
   "source": [
    "@jit\n",
    "def predict(params, inp):\n",
    "    return np.asarray(np.round(net(params, inp)[0]), dtype=np.uint32)\n",
    "\n",
    "def test_all_inputs(inputs, params):\n",
    "    \"\"\"Tests all possible xor inputs and outputs\"\"\"\n",
    "    predictions = vmap(predict, in_axes=(None, 0))(params, inputs)\n",
    "    for inp, out in zip(inputs, predictions):\n",
    "        print(inp, '->', out)\n",
    "    return (predictions == np.asarray([onp.bitwise_xor(*inp) for inp in inputs])).all()"
   ]
  },
  {
   "cell_type": "code",
   "execution_count": 4,
   "metadata": {},
   "outputs": [],
   "source": [
    "loss_grad = jit(grad(loss))"
   ]
  },
  {
   "cell_type": "code",
   "execution_count": 5,
   "metadata": {},
   "outputs": [],
   "source": [
    "@jit\n",
    "def update(i, opt_state, batch):\n",
    "    params = get_params(opt_state)\n",
    "    x, y = batch\n",
    "    grads = loss_grad(params, x, y)\n",
    "    return opt_update(i, grads, opt_state)"
   ]
  },
  {
   "cell_type": "code",
   "execution_count": 6,
   "metadata": {},
   "outputs": [],
   "source": [
    "rng = jax.random.PRNGKey(0)\n",
    "\n",
    "inputs = np.array([[0, 0], [0, 1], [1, 0], [1, 1]])\n",
    "\n",
    "opt_init, opt_update, get_params = optimizers.sgd(0.5)\n",
    "_, init_params = init_random_params(rng, (-1, 2))\n",
    "opt_state = opt_init(init_params)\n",
    "itercount = itertools.count()"
   ]
  },
  {
   "cell_type": "code",
   "execution_count": 7,
   "metadata": {},
   "outputs": [
    {
     "name": "stdout",
     "output_type": "stream",
     "text": [
      "\n",
      "Starting training...\n",
      "Iteration 0\n",
      "[0 0] -> 1\n",
      "[0 1] -> 1\n",
      "[1 0] -> 1\n",
      "[1 1] -> 1\n",
      "Iteration 100\n",
      "[0 0] -> 0\n",
      "[0 1] -> 1\n",
      "[1 0] -> 0\n",
      "[1 1] -> 0\n",
      "Iteration 200\n",
      "[0 0] -> 0\n",
      "[0 1] -> 1\n",
      "[1 0] -> 1\n",
      "[1 1] -> 0\n"
     ]
    }
   ],
   "source": [
    "print(\"\\nStarting training...\")\n",
    "\n",
    "for n in itertools.count():\n",
    "    x = inputs[onp.random.choice(inputs.shape[0], size=100)]\n",
    "    y = onp.bitwise_xor(x[:, 0], x[:, 1])\n",
    "    batch = (x, y)\n",
    "\n",
    "    opt_state = update(next(itercount), opt_state, batch)\n",
    "\n",
    "    params = get_params(opt_state)\n",
    "    # Every 100 iterations, check whether we've solved XOR\n",
    "    if not n % 100:\n",
    "        print('Iteration {}'.format(n))\n",
    "        if test_all_inputs(inputs, get_params(opt_state)):\n",
    "            break"
   ]
  }
 ],
 "metadata": {
  "kernelspec": {
   "display_name": "Python 3",
   "language": "python",
   "name": "python3"
  },
  "language_info": {
   "codemirror_mode": {
    "name": "ipython",
    "version": 3
   },
   "file_extension": ".py",
   "mimetype": "text/x-python",
   "name": "python",
   "nbconvert_exporter": "python",
   "pygments_lexer": "ipython3",
   "version": "3.7.3"
  }
 },
 "nbformat": 4,
 "nbformat_minor": 4
}
